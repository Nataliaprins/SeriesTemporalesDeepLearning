{
 "cells": [
  {
   "cell_type": "markdown",
   "id": "4b51a76e",
   "metadata": {},
   "source": [
    "### Fundamentos de Series de Tiempo "
   ]
  },
  {
   "cell_type": "markdown",
   "id": "30aaf120",
   "metadata": {},
   "source": [
    "Una serie de tiempo es una secuencia de observaciones $\\{X_t\\}$ indexadas por el tiempo $t$, donde $t \\in T$ y $T$ representa el conjunto de índices temporales (discreto o continuo). Matemáticamente, se puede expresar como:\n",
    "\n",
    "$$X_t = f(t) + \\epsilon_t$$\n",
    "\n",
    "donde $f(t)$ representa la componente determinística (tendencia, estacionalidad) y $\\epsilon_t$ es la componente estocástica o ruido aleatorio. El objetivo principal del análisis de series temporales es modelar la dependencia temporal entre las observaciones, es decir, $\\text{Cov}(X_t, X_{t-k}) \\neq 0$ para diferentes valores de rezago $k$."
   ]
  },
  {
   "cell_type": "markdown",
   "id": "e58e7518",
   "metadata": {},
   "source": [
    "Vamos a  analizar la serie del CO2 de Mauna Loa, disponible en `statsmodels` la representa las mediciones de concentración atmosférica de dióxido de carbono (en partes por millón, ppm) registradas en el observatorio de Mauna Loa (Hawái) desde finales de la década de 1950 hasta el 2001.\n"
   ]
  },
  {
   "cell_type": "markdown",
   "id": "b04b3f5c",
   "metadata": {},
   "source": [
    "Dependiendo de la serie estos podrían ser algunos de los preprocesamientos sugeridos:\n",
    "\n",
    "| Paso                            | Propósito               | Método sugerido               |\n",
    "| ------------------------------- | ----------------------- | ----------------------------- |\n",
    "| 1️⃣ Completar datos faltantes   | Continuidad temporal    | Interpolación lineal o eleiminar NA's         |\n",
    "| 2️⃣ Definir frecuencia          | Regularizar la serie    | `.asfreq(\"MS\")`               |\n",
    "| 3️⃣ Transformar si es necesario | Log o diferencia        | No log, sí diferencias (1,12) |\n",
    "| 4️⃣ Verificar estacionariedad   | Confirmar con ADF/KPSS  | `adfuller`, `kpss`            |\n",
    "| 5️⃣ Escalar (opcional)          | Facilitar entrenamiento | `StandardScaler` o `MinMax`   |\n"
   ]
  },
  {
   "cell_type": "code",
   "execution_count": 29,
   "id": "28f6e8ba",
   "metadata": {},
   "outputs": [
    {
     "name": "stdout",
     "output_type": "stream",
     "text": [
      "<class 'pandas.core.frame.DataFrame'>\n",
      "DatetimeIndex: 2284 entries, 1958-03-29 to 2001-12-29\n",
      "Freq: W-SAT\n",
      "Data columns (total 1 columns):\n",
      " #   Column  Non-Null Count  Dtype  \n",
      "---  ------  --------------  -----  \n",
      " 0   co2     2225 non-null   float64\n",
      "dtypes: float64(1)\n",
      "memory usage: 35.7 KB\n"
     ]
    }
   ],
   "source": [
    "#Obtener los datos\n",
    "import pandas as pd\n",
    "import statsmodels.api as sm\n",
    "\n",
    "data = sm.datasets.co2.load_pandas().data\n",
    "data.info() \n"
   ]
  },
  {
   "cell_type": "markdown",
   "id": "be601736",
   "metadata": {},
   "source": [
    "La  serie presenta valores perdidos \"NA's\" por tanto se requiere hacer una interpolación, o elimininar esos valores. La interpolación se prefiere cunado los datos faltantes son pocos y sin ningún patrón aparente. Se recomienda eliminar cuando son mayores al 20% o 30%, ya qe la intrpolación poodría generar sesgos. En este caso son 59 datos faltantes que corresponden a un 2.5%. Se recomienda interpolar y dar formato a la serie.\n",
    " "
   ]
  },
  {
   "cell_type": "code",
   "execution_count": 30,
   "id": "27c6da4a",
   "metadata": {},
   "outputs": [
    {
     "name": "stdout",
     "output_type": "stream",
     "text": [
      "<class 'pandas.core.frame.DataFrame'>\n",
      "DatetimeIndex: 2284 entries, 1958-03-29 to 2001-12-29\n",
      "Freq: W-SAT\n",
      "Data columns (total 1 columns):\n",
      " #   Column  Non-Null Count  Dtype  \n",
      "---  ------  --------------  -----  \n",
      " 0   co2     2225 non-null   float64\n",
      "dtypes: float64(1)\n",
      "memory usage: 35.7 KB\n",
      "None\n"
     ]
    },
    {
     "data": {
      "text/plain": [
       "<bound method NDFrame.describe of                      y\n",
       "1958-03-01  316.100000\n",
       "1958-04-01  317.200000\n",
       "1958-05-01  317.433333\n",
       "1958-06-01  316.529167\n",
       "1958-07-01  315.625000\n",
       "...                ...\n",
       "2001-08-01  369.425000\n",
       "2001-09-01  367.880000\n",
       "2001-10-01  368.050000\n",
       "2001-11-01  369.375000\n",
       "2001-12-01  371.020000\n",
       "\n",
       "[526 rows x 1 columns]>"
      ]
     },
     "execution_count": 30,
     "metadata": {},
     "output_type": "execute_result"
    }
   ],
   "source": [
    "# Convertir el índice a datetime\n",
    "data.index = pd.to_datetime(data.index)\n",
    "data = data.asfreq(\"W-SAT\")  \n",
    "print(data.info())              # index semanal regular\n",
    "\n",
    "#convertiremos la serie a frecuencia mensual\n",
    "y_m = data[\"co2\"].resample(\"MS\").mean().interpolate()  # mensual, inicio de mes\n",
    "y = y_m.copy()\n",
    "df = pd.DataFrame({\"y\": y})\n",
    "df.describe\n"
   ]
  },
  {
   "cell_type": "markdown",
   "id": "c027e1ed",
   "metadata": {},
   "source": [
    "### Analisis Exploratorio de la Serie"
   ]
  },
  {
   "cell_type": "code",
   "execution_count": 35,
   "id": "6616adf7",
   "metadata": {},
   "outputs": [
    {
     "data": {
      "application/vnd.plotly.v1+json": {
       "config": {
        "plotlyServerURL": "https://plot.ly"
       },
       "data": [
        {
         "line": {
          "color": "blue",
          "width": 1.5
         },
         "mode": "lines",
         "name": "CO2 (ppm)",
         "type": "scatter",
         "x": [
          "1958-03-01T00:00:00.000000000",
          "1958-04-01T00:00:00.000000000",
          "1958-05-01T00:00:00.000000000",
          "1958-06-01T00:00:00.000000000",
          "1958-07-01T00:00:00.000000000",
          "1958-08-01T00:00:00.000000000",
          "1958-09-01T00:00:00.000000000",
          "1958-10-01T00:00:00.000000000",
          "1958-11-01T00:00:00.000000000",
          "1958-12-01T00:00:00.000000000",
          "1959-01-01T00:00:00.000000000",
          "1959-02-01T00:00:00.000000000",
          "1959-03-01T00:00:00.000000000",
          "1959-04-01T00:00:00.000000000",
          "1959-05-01T00:00:00.000000000",
          "1959-06-01T00:00:00.000000000",
          "1959-07-01T00:00:00.000000000",
          "1959-08-01T00:00:00.000000000",
          "1959-09-01T00:00:00.000000000",
          "1959-10-01T00:00:00.000000000",
          "1959-11-01T00:00:00.000000000",
          "1959-12-01T00:00:00.000000000",
          "1960-01-01T00:00:00.000000000",
          "1960-02-01T00:00:00.000000000",
          "1960-03-01T00:00:00.000000000",
          "1960-04-01T00:00:00.000000000",
          "1960-05-01T00:00:00.000000000",
          "1960-06-01T00:00:00.000000000",
          "1960-07-01T00:00:00.000000000",
          "1960-08-01T00:00:00.000000000",
          "1960-09-01T00:00:00.000000000",
          "1960-10-01T00:00:00.000000000",
          "1960-11-01T00:00:00.000000000",
          "1960-12-01T00:00:00.000000000",
          "1961-01-01T00:00:00.000000000",
          "1961-02-01T00:00:00.000000000",
          "1961-03-01T00:00:00.000000000",
          "1961-04-01T00:00:00.000000000",
          "1961-05-01T00:00:00.000000000",
          "1961-06-01T00:00:00.000000000",
          "1961-07-01T00:00:00.000000000",
          "1961-08-01T00:00:00.000000000",
          "1961-09-01T00:00:00.000000000",
          "1961-10-01T00:00:00.000000000",
          "1961-11-01T00:00:00.000000000",
          "1961-12-01T00:00:00.000000000",
          "1962-01-01T00:00:00.000000000",
          "1962-02-01T00:00:00.000000000",
          "1962-03-01T00:00:00.000000000",
          "1962-04-01T00:00:00.000000000",
          "1962-05-01T00:00:00.000000000",
          "1962-06-01T00:00:00.000000000",
          "1962-07-01T00:00:00.000000000",
          "1962-08-01T00:00:00.000000000",
          "1962-09-01T00:00:00.000000000",
          "1962-10-01T00:00:00.000000000",
          "1962-11-01T00:00:00.000000000",
          "1962-12-01T00:00:00.000000000",
          "1963-01-01T00:00:00.000000000",
          "1963-02-01T00:00:00.000000000",
          "1963-03-01T00:00:00.000000000",
          "1963-04-01T00:00:00.000000000",
          "1963-05-01T00:00:00.000000000",
          "1963-06-01T00:00:00.000000000",
          "1963-07-01T00:00:00.000000000",
          "1963-08-01T00:00:00.000000000",
          "1963-09-01T00:00:00.000000000",
          "1963-10-01T00:00:00.000000000",
          "1963-11-01T00:00:00.000000000",
          "1963-12-01T00:00:00.000000000",
          "1964-01-01T00:00:00.000000000",
          "1964-02-01T00:00:00.000000000",
          "1964-03-01T00:00:00.000000000",
          "1964-04-01T00:00:00.000000000",
          "1964-05-01T00:00:00.000000000",
          "1964-06-01T00:00:00.000000000",
          "1964-07-01T00:00:00.000000000",
          "1964-08-01T00:00:00.000000000",
          "1964-09-01T00:00:00.000000000",
          "1964-10-01T00:00:00.000000000",
          "1964-11-01T00:00:00.000000000",
          "1964-12-01T00:00:00.000000000",
          "1965-01-01T00:00:00.000000000",
          "1965-02-01T00:00:00.000000000",
          "1965-03-01T00:00:00.000000000",
          "1965-04-01T00:00:00.000000000",
          "1965-05-01T00:00:00.000000000",
          "1965-06-01T00:00:00.000000000",
          "1965-07-01T00:00:00.000000000",
          "1965-08-01T00:00:00.000000000",
          "1965-09-01T00:00:00.000000000",
          "1965-10-01T00:00:00.000000000",
          "1965-11-01T00:00:00.000000000",
          "1965-12-01T00:00:00.000000000",
          "1966-01-01T00:00:00.000000000",
          "1966-02-01T00:00:00.000000000",
          "1966-03-01T00:00:00.000000000",
          "1966-04-01T00:00:00.000000000",
          "1966-05-01T00:00:00.000000000",
          "1966-06-01T00:00:00.000000000",
          "1966-07-01T00:00:00.000000000",
          "1966-08-01T00:00:00.000000000",
          "1966-09-01T00:00:00.000000000",
          "1966-10-01T00:00:00.000000000",
          "1966-11-01T00:00:00.000000000",
          "1966-12-01T00:00:00.000000000",
          "1967-01-01T00:00:00.000000000",
          "1967-02-01T00:00:00.000000000",
          "1967-03-01T00:00:00.000000000",
          "1967-04-01T00:00:00.000000000",
          "1967-05-01T00:00:00.000000000",
          "1967-06-01T00:00:00.000000000",
          "1967-07-01T00:00:00.000000000",
          "1967-08-01T00:00:00.000000000",
          "1967-09-01T00:00:00.000000000",
          "1967-10-01T00:00:00.000000000",
          "1967-11-01T00:00:00.000000000",
          "1967-12-01T00:00:00.000000000",
          "1968-01-01T00:00:00.000000000",
          "1968-02-01T00:00:00.000000000",
          "1968-03-01T00:00:00.000000000",
          "1968-04-01T00:00:00.000000000",
          "1968-05-01T00:00:00.000000000",
          "1968-06-01T00:00:00.000000000",
          "1968-07-01T00:00:00.000000000",
          "1968-08-01T00:00:00.000000000",
          "1968-09-01T00:00:00.000000000",
          "1968-10-01T00:00:00.000000000",
          "1968-11-01T00:00:00.000000000",
          "1968-12-01T00:00:00.000000000",
          "1969-01-01T00:00:00.000000000",
          "1969-02-01T00:00:00.000000000",
          "1969-03-01T00:00:00.000000000",
          "1969-04-01T00:00:00.000000000",
          "1969-05-01T00:00:00.000000000",
          "1969-06-01T00:00:00.000000000",
          "1969-07-01T00:00:00.000000000",
          "1969-08-01T00:00:00.000000000",
          "1969-09-01T00:00:00.000000000",
          "1969-10-01T00:00:00.000000000",
          "1969-11-01T00:00:00.000000000",
          "1969-12-01T00:00:00.000000000",
          "1970-01-01T00:00:00.000000000",
          "1970-02-01T00:00:00.000000000",
          "1970-03-01T00:00:00.000000000",
          "1970-04-01T00:00:00.000000000",
          "1970-05-01T00:00:00.000000000",
          "1970-06-01T00:00:00.000000000",
          "1970-07-01T00:00:00.000000000",
          "1970-08-01T00:00:00.000000000",
          "1970-09-01T00:00:00.000000000",
          "1970-10-01T00:00:00.000000000",
          "1970-11-01T00:00:00.000000000",
          "1970-12-01T00:00:00.000000000",
          "1971-01-01T00:00:00.000000000",
          "1971-02-01T00:00:00.000000000",
          "1971-03-01T00:00:00.000000000",
          "1971-04-01T00:00:00.000000000",
          "1971-05-01T00:00:00.000000000",
          "1971-06-01T00:00:00.000000000",
          "1971-07-01T00:00:00.000000000",
          "1971-08-01T00:00:00.000000000",
          "1971-09-01T00:00:00.000000000",
          "1971-10-01T00:00:00.000000000",
          "1971-11-01T00:00:00.000000000",
          "1971-12-01T00:00:00.000000000",
          "1972-01-01T00:00:00.000000000",
          "1972-02-01T00:00:00.000000000",
          "1972-03-01T00:00:00.000000000",
          "1972-04-01T00:00:00.000000000",
          "1972-05-01T00:00:00.000000000",
          "1972-06-01T00:00:00.000000000",
          "1972-07-01T00:00:00.000000000",
          "1972-08-01T00:00:00.000000000",
          "1972-09-01T00:00:00.000000000",
          "1972-10-01T00:00:00.000000000",
          "1972-11-01T00:00:00.000000000",
          "1972-12-01T00:00:00.000000000",
          "1973-01-01T00:00:00.000000000",
          "1973-02-01T00:00:00.000000000",
          "1973-03-01T00:00:00.000000000",
          "1973-04-01T00:00:00.000000000",
          "1973-05-01T00:00:00.000000000",
          "1973-06-01T00:00:00.000000000",
          "1973-07-01T00:00:00.000000000",
          "1973-08-01T00:00:00.000000000",
          "1973-09-01T00:00:00.000000000",
          "1973-10-01T00:00:00.000000000",
          "1973-11-01T00:00:00.000000000",
          "1973-12-01T00:00:00.000000000",
          "1974-01-01T00:00:00.000000000",
          "1974-02-01T00:00:00.000000000",
          "1974-03-01T00:00:00.000000000",
          "1974-04-01T00:00:00.000000000",
          "1974-05-01T00:00:00.000000000",
          "1974-06-01T00:00:00.000000000",
          "1974-07-01T00:00:00.000000000",
          "1974-08-01T00:00:00.000000000",
          "1974-09-01T00:00:00.000000000",
          "1974-10-01T00:00:00.000000000",
          "1974-11-01T00:00:00.000000000",
          "1974-12-01T00:00:00.000000000",
          "1975-01-01T00:00:00.000000000",
          "1975-02-01T00:00:00.000000000",
          "1975-03-01T00:00:00.000000000",
          "1975-04-01T00:00:00.000000000",
          "1975-05-01T00:00:00.000000000",
          "1975-06-01T00:00:00.000000000",
          "1975-07-01T00:00:00.000000000",
          "1975-08-01T00:00:00.000000000",
          "1975-09-01T00:00:00.000000000",
          "1975-10-01T00:00:00.000000000",
          "1975-11-01T00:00:00.000000000",
          "1975-12-01T00:00:00.000000000",
          "1976-01-01T00:00:00.000000000",
          "1976-02-01T00:00:00.000000000",
          "1976-03-01T00:00:00.000000000",
          "1976-04-01T00:00:00.000000000",
          "1976-05-01T00:00:00.000000000",
          "1976-06-01T00:00:00.000000000",
          "1976-07-01T00:00:00.000000000",
          "1976-08-01T00:00:00.000000000",
          "1976-09-01T00:00:00.000000000",
          "1976-10-01T00:00:00.000000000",
          "1976-11-01T00:00:00.000000000",
          "1976-12-01T00:00:00.000000000",
          "1977-01-01T00:00:00.000000000",
          "1977-02-01T00:00:00.000000000",
          "1977-03-01T00:00:00.000000000",
          "1977-04-01T00:00:00.000000000",
          "1977-05-01T00:00:00.000000000",
          "1977-06-01T00:00:00.000000000",
          "1977-07-01T00:00:00.000000000",
          "1977-08-01T00:00:00.000000000",
          "1977-09-01T00:00:00.000000000",
          "1977-10-01T00:00:00.000000000",
          "1977-11-01T00:00:00.000000000",
          "1977-12-01T00:00:00.000000000",
          "1978-01-01T00:00:00.000000000",
          "1978-02-01T00:00:00.000000000",
          "1978-03-01T00:00:00.000000000",
          "1978-04-01T00:00:00.000000000",
          "1978-05-01T00:00:00.000000000",
          "1978-06-01T00:00:00.000000000",
          "1978-07-01T00:00:00.000000000",
          "1978-08-01T00:00:00.000000000",
          "1978-09-01T00:00:00.000000000",
          "1978-10-01T00:00:00.000000000",
          "1978-11-01T00:00:00.000000000",
          "1978-12-01T00:00:00.000000000",
          "1979-01-01T00:00:00.000000000",
          "1979-02-01T00:00:00.000000000",
          "1979-03-01T00:00:00.000000000",
          "1979-04-01T00:00:00.000000000",
          "1979-05-01T00:00:00.000000000",
          "1979-06-01T00:00:00.000000000",
          "1979-07-01T00:00:00.000000000",
          "1979-08-01T00:00:00.000000000",
          "1979-09-01T00:00:00.000000000",
          "1979-10-01T00:00:00.000000000",
          "1979-11-01T00:00:00.000000000",
          "1979-12-01T00:00:00.000000000",
          "1980-01-01T00:00:00.000000000",
          "1980-02-01T00:00:00.000000000",
          "1980-03-01T00:00:00.000000000",
          "1980-04-01T00:00:00.000000000",
          "1980-05-01T00:00:00.000000000",
          "1980-06-01T00:00:00.000000000",
          "1980-07-01T00:00:00.000000000",
          "1980-08-01T00:00:00.000000000",
          "1980-09-01T00:00:00.000000000",
          "1980-10-01T00:00:00.000000000",
          "1980-11-01T00:00:00.000000000",
          "1980-12-01T00:00:00.000000000",
          "1981-01-01T00:00:00.000000000",
          "1981-02-01T00:00:00.000000000",
          "1981-03-01T00:00:00.000000000",
          "1981-04-01T00:00:00.000000000",
          "1981-05-01T00:00:00.000000000",
          "1981-06-01T00:00:00.000000000",
          "1981-07-01T00:00:00.000000000",
          "1981-08-01T00:00:00.000000000",
          "1981-09-01T00:00:00.000000000",
          "1981-10-01T00:00:00.000000000",
          "1981-11-01T00:00:00.000000000",
          "1981-12-01T00:00:00.000000000",
          "1982-01-01T00:00:00.000000000",
          "1982-02-01T00:00:00.000000000",
          "1982-03-01T00:00:00.000000000",
          "1982-04-01T00:00:00.000000000",
          "1982-05-01T00:00:00.000000000",
          "1982-06-01T00:00:00.000000000",
          "1982-07-01T00:00:00.000000000",
          "1982-08-01T00:00:00.000000000",
          "1982-09-01T00:00:00.000000000",
          "1982-10-01T00:00:00.000000000",
          "1982-11-01T00:00:00.000000000",
          "1982-12-01T00:00:00.000000000",
          "1983-01-01T00:00:00.000000000",
          "1983-02-01T00:00:00.000000000",
          "1983-03-01T00:00:00.000000000",
          "1983-04-01T00:00:00.000000000",
          "1983-05-01T00:00:00.000000000",
          "1983-06-01T00:00:00.000000000",
          "1983-07-01T00:00:00.000000000",
          "1983-08-01T00:00:00.000000000",
          "1983-09-01T00:00:00.000000000",
          "1983-10-01T00:00:00.000000000",
          "1983-11-01T00:00:00.000000000",
          "1983-12-01T00:00:00.000000000",
          "1984-01-01T00:00:00.000000000",
          "1984-02-01T00:00:00.000000000",
          "1984-03-01T00:00:00.000000000",
          "1984-04-01T00:00:00.000000000",
          "1984-05-01T00:00:00.000000000",
          "1984-06-01T00:00:00.000000000",
          "1984-07-01T00:00:00.000000000",
          "1984-08-01T00:00:00.000000000",
          "1984-09-01T00:00:00.000000000",
          "1984-10-01T00:00:00.000000000",
          "1984-11-01T00:00:00.000000000",
          "1984-12-01T00:00:00.000000000",
          "1985-01-01T00:00:00.000000000",
          "1985-02-01T00:00:00.000000000",
          "1985-03-01T00:00:00.000000000",
          "1985-04-01T00:00:00.000000000",
          "1985-05-01T00:00:00.000000000",
          "1985-06-01T00:00:00.000000000",
          "1985-07-01T00:00:00.000000000",
          "1985-08-01T00:00:00.000000000",
          "1985-09-01T00:00:00.000000000",
          "1985-10-01T00:00:00.000000000",
          "1985-11-01T00:00:00.000000000",
          "1985-12-01T00:00:00.000000000",
          "1986-01-01T00:00:00.000000000",
          "1986-02-01T00:00:00.000000000",
          "1986-03-01T00:00:00.000000000",
          "1986-04-01T00:00:00.000000000",
          "1986-05-01T00:00:00.000000000",
          "1986-06-01T00:00:00.000000000",
          "1986-07-01T00:00:00.000000000",
          "1986-08-01T00:00:00.000000000",
          "1986-09-01T00:00:00.000000000",
          "1986-10-01T00:00:00.000000000",
          "1986-11-01T00:00:00.000000000",
          "1986-12-01T00:00:00.000000000",
          "1987-01-01T00:00:00.000000000",
          "1987-02-01T00:00:00.000000000",
          "1987-03-01T00:00:00.000000000",
          "1987-04-01T00:00:00.000000000",
          "1987-05-01T00:00:00.000000000",
          "1987-06-01T00:00:00.000000000",
          "1987-07-01T00:00:00.000000000",
          "1987-08-01T00:00:00.000000000",
          "1987-09-01T00:00:00.000000000",
          "1987-10-01T00:00:00.000000000",
          "1987-11-01T00:00:00.000000000",
          "1987-12-01T00:00:00.000000000",
          "1988-01-01T00:00:00.000000000",
          "1988-02-01T00:00:00.000000000",
          "1988-03-01T00:00:00.000000000",
          "1988-04-01T00:00:00.000000000",
          "1988-05-01T00:00:00.000000000",
          "1988-06-01T00:00:00.000000000",
          "1988-07-01T00:00:00.000000000",
          "1988-08-01T00:00:00.000000000",
          "1988-09-01T00:00:00.000000000",
          "1988-10-01T00:00:00.000000000",
          "1988-11-01T00:00:00.000000000",
          "1988-12-01T00:00:00.000000000",
          "1989-01-01T00:00:00.000000000",
          "1989-02-01T00:00:00.000000000",
          "1989-03-01T00:00:00.000000000",
          "1989-04-01T00:00:00.000000000",
          "1989-05-01T00:00:00.000000000",
          "1989-06-01T00:00:00.000000000",
          "1989-07-01T00:00:00.000000000",
          "1989-08-01T00:00:00.000000000",
          "1989-09-01T00:00:00.000000000",
          "1989-10-01T00:00:00.000000000",
          "1989-11-01T00:00:00.000000000",
          "1989-12-01T00:00:00.000000000",
          "1990-01-01T00:00:00.000000000",
          "1990-02-01T00:00:00.000000000",
          "1990-03-01T00:00:00.000000000",
          "1990-04-01T00:00:00.000000000",
          "1990-05-01T00:00:00.000000000",
          "1990-06-01T00:00:00.000000000",
          "1990-07-01T00:00:00.000000000",
          "1990-08-01T00:00:00.000000000",
          "1990-09-01T00:00:00.000000000",
          "1990-10-01T00:00:00.000000000",
          "1990-11-01T00:00:00.000000000",
          "1990-12-01T00:00:00.000000000",
          "1991-01-01T00:00:00.000000000",
          "1991-02-01T00:00:00.000000000",
          "1991-03-01T00:00:00.000000000",
          "1991-04-01T00:00:00.000000000",
          "1991-05-01T00:00:00.000000000",
          "1991-06-01T00:00:00.000000000",
          "1991-07-01T00:00:00.000000000",
          "1991-08-01T00:00:00.000000000",
          "1991-09-01T00:00:00.000000000",
          "1991-10-01T00:00:00.000000000",
          "1991-11-01T00:00:00.000000000",
          "1991-12-01T00:00:00.000000000",
          "1992-01-01T00:00:00.000000000",
          "1992-02-01T00:00:00.000000000",
          "1992-03-01T00:00:00.000000000",
          "1992-04-01T00:00:00.000000000",
          "1992-05-01T00:00:00.000000000",
          "1992-06-01T00:00:00.000000000",
          "1992-07-01T00:00:00.000000000",
          "1992-08-01T00:00:00.000000000",
          "1992-09-01T00:00:00.000000000",
          "1992-10-01T00:00:00.000000000",
          "1992-11-01T00:00:00.000000000",
          "1992-12-01T00:00:00.000000000",
          "1993-01-01T00:00:00.000000000",
          "1993-02-01T00:00:00.000000000",
          "1993-03-01T00:00:00.000000000",
          "1993-04-01T00:00:00.000000000",
          "1993-05-01T00:00:00.000000000",
          "1993-06-01T00:00:00.000000000",
          "1993-07-01T00:00:00.000000000",
          "1993-08-01T00:00:00.000000000",
          "1993-09-01T00:00:00.000000000",
          "1993-10-01T00:00:00.000000000",
          "1993-11-01T00:00:00.000000000",
          "1993-12-01T00:00:00.000000000",
          "1994-01-01T00:00:00.000000000",
          "1994-02-01T00:00:00.000000000",
          "1994-03-01T00:00:00.000000000",
          "1994-04-01T00:00:00.000000000",
          "1994-05-01T00:00:00.000000000",
          "1994-06-01T00:00:00.000000000",
          "1994-07-01T00:00:00.000000000",
          "1994-08-01T00:00:00.000000000",
          "1994-09-01T00:00:00.000000000",
          "1994-10-01T00:00:00.000000000",
          "1994-11-01T00:00:00.000000000",
          "1994-12-01T00:00:00.000000000",
          "1995-01-01T00:00:00.000000000",
          "1995-02-01T00:00:00.000000000",
          "1995-03-01T00:00:00.000000000",
          "1995-04-01T00:00:00.000000000",
          "1995-05-01T00:00:00.000000000",
          "1995-06-01T00:00:00.000000000",
          "1995-07-01T00:00:00.000000000",
          "1995-08-01T00:00:00.000000000",
          "1995-09-01T00:00:00.000000000",
          "1995-10-01T00:00:00.000000000",
          "1995-11-01T00:00:00.000000000",
          "1995-12-01T00:00:00.000000000",
          "1996-01-01T00:00:00.000000000",
          "1996-02-01T00:00:00.000000000",
          "1996-03-01T00:00:00.000000000",
          "1996-04-01T00:00:00.000000000",
          "1996-05-01T00:00:00.000000000",
          "1996-06-01T00:00:00.000000000",
          "1996-07-01T00:00:00.000000000",
          "1996-08-01T00:00:00.000000000",
          "1996-09-01T00:00:00.000000000",
          "1996-10-01T00:00:00.000000000",
          "1996-11-01T00:00:00.000000000",
          "1996-12-01T00:00:00.000000000",
          "1997-01-01T00:00:00.000000000",
          "1997-02-01T00:00:00.000000000",
          "1997-03-01T00:00:00.000000000",
          "1997-04-01T00:00:00.000000000",
          "1997-05-01T00:00:00.000000000",
          "1997-06-01T00:00:00.000000000",
          "1997-07-01T00:00:00.000000000",
          "1997-08-01T00:00:00.000000000",
          "1997-09-01T00:00:00.000000000",
          "1997-10-01T00:00:00.000000000",
          "1997-11-01T00:00:00.000000000",
          "1997-12-01T00:00:00.000000000",
          "1998-01-01T00:00:00.000000000",
          "1998-02-01T00:00:00.000000000",
          "1998-03-01T00:00:00.000000000",
          "1998-04-01T00:00:00.000000000",
          "1998-05-01T00:00:00.000000000",
          "1998-06-01T00:00:00.000000000",
          "1998-07-01T00:00:00.000000000",
          "1998-08-01T00:00:00.000000000",
          "1998-09-01T00:00:00.000000000",
          "1998-10-01T00:00:00.000000000",
          "1998-11-01T00:00:00.000000000",
          "1998-12-01T00:00:00.000000000",
          "1999-01-01T00:00:00.000000000",
          "1999-02-01T00:00:00.000000000",
          "1999-03-01T00:00:00.000000000",
          "1999-04-01T00:00:00.000000000",
          "1999-05-01T00:00:00.000000000",
          "1999-06-01T00:00:00.000000000",
          "1999-07-01T00:00:00.000000000",
          "1999-08-01T00:00:00.000000000",
          "1999-09-01T00:00:00.000000000",
          "1999-10-01T00:00:00.000000000",
          "1999-11-01T00:00:00.000000000",
          "1999-12-01T00:00:00.000000000",
          "2000-01-01T00:00:00.000000000",
          "2000-02-01T00:00:00.000000000",
          "2000-03-01T00:00:00.000000000",
          "2000-04-01T00:00:00.000000000",
          "2000-05-01T00:00:00.000000000",
          "2000-06-01T00:00:00.000000000",
          "2000-07-01T00:00:00.000000000",
          "2000-08-01T00:00:00.000000000",
          "2000-09-01T00:00:00.000000000",
          "2000-10-01T00:00:00.000000000",
          "2000-11-01T00:00:00.000000000",
          "2000-12-01T00:00:00.000000000",
          "2001-01-01T00:00:00.000000000",
          "2001-02-01T00:00:00.000000000",
          "2001-03-01T00:00:00.000000000",
          "2001-04-01T00:00:00.000000000",
          "2001-05-01T00:00:00.000000000",
          "2001-06-01T00:00:00.000000000",
          "2001-07-01T00:00:00.000000000",
          "2001-08-01T00:00:00.000000000",
          "2001-09-01T00:00:00.000000000",
          "2001-10-01T00:00:00.000000000",
          "2001-11-01T00:00:00.000000000",
          "2001-12-01T00:00:00.000000000"
         ],
         "y": {
          "bdata": "mpmZmZnBc0AzMzMzM9NzQO/u7u7u1nNAeHd3d3fIc0AAAAAAALpzQDQzMzMzr3NAAAAAAACYc0BmZmZmZpdzQM3MzMzMlnNAMzMzMzOrc0AAAAAAALhzQDMzMzMzy3NAvLu7u7vLc0DNzMzMzNpzQDMzMzMz5XNAZmZmZmbgc0BmZmZmZshzQGZmZmZmrnNAMzMzMzOdc0BmZmZmZpZzQAAAAAAArnNAZmZmZma4c0CuR+F6FMZzQJqZmZmZz3NAMzMzMzPZc0BSuB6F6/FzQM3MzMzM/nNAMzMzMzP3c0ApXI/C9eBzQGZmZmZmvHNAzczMzMyic0A+CtejcJ1zQGZmZmZmsHNAMzMzMzPDc0DNzMzMzM5zQGZmZmZm2nNAZmZmZmboc0AehetRuPZzQJqZmZmZB3RAAAAAAAD8c0CF61G4HuVzQGZmZmZmzHNAcT0K16Owc0CZmZmZmbVzQM3MzMzMwHNASOF6FK7Pc0DNzMzMzN5zQAAAAAAA6nNAehSuR+H6c0DNzMzMzAh0QGZmZmZmDnRAAAAAAAAIdEDNzMzMzPZzQLy7u7u723NAERERERHBc0CamZmZmbdzQMzMzMzMyHNAZ2ZmZmbYc0CamZmZmetzQHd3d3d373NA9ihcj8L9c0BmZmZmZhR0QJmZmZmZIXRAj8L1KFwXdECamZmZmflzQJqZmZmZ2XNAZmZmZmbCc0DNzMzMzMBzQAAAAAAA0HNAmpmZmZnlc0BnZmZmZvZzQM3MzMzMAHRANDMzMzMLdECamZmZmRV0QAAAAAAAIHRAAAAAAAAcdEDNzMzMzAR0QAAAAAAA6HNAmpmZmZnJc0CPwvUoXM9zQJqZmZmZ23NAzMzMzMzqc0BmZmZmZvZzQDMzMzMzB3RAzMzMzMwOdEAAAAAAACB0QClcj8L1IHRAZmZmZmYcdEBwPQrXoxB0QJqZmZmZ63NAMzMzMzPdc0A+CtejcNVzQAAAAAAA7nNAMzMzMzP1c0BxPQrXowh0QDMzMzMzGXRAAAAAAAAmdEDC9Shcjzp0QGZmZmZmQHRAMzMzMzM7dECamZmZmS10QDQzMzMzA3RAMzMzMzPrc0B7FK5H4eJzQGdmZmZm/nNAKlyPwvUQdEBmZmZmZiZ0QM3MzMzMJnRAAAAAAAAwdEAVrkfhekR0QDMzMzMzT3RAMzMzMzNBdEBI4XoUrid0QJqZmZmZDXRAzczMzMz0c0AzMzMzM/dzQM3MzMzMCnRAHoXrUbgedEDNzMzMzCh0QM3MzMzMMHRAHoXrUbg+dECamZmZmU90QJqZmZmZV3RAXI/C9ShUdEBmZmZmZkB0QNajcD0KH3RAAAAAAAAEdEBmZmZmZgR0QIXrUbgeFXRAzczMzMwudEDNzMzMzD50QGZmZmZmRHRAmpmZmZlZdEAzMzMzM2l0QBWuR+F6dHRAzczMzMxodEDNzMzMzFx0QHE9CtejOHRAZmZmZmYmdEDNzMzMzBx0QIXrUbgeLXRAAAAAAABCdEDiehSuR1F0QGZmZmZmYHRAAAAAAABwdEAzMzMzM4F0QB6F61G4fnRAzczMzMx4dEDNzMzMzGR0QML1KFyPSnRAZmZmZmYydEAK16NwPTJ0QM3MzMzMQHRAmpmZmZlRdEAK16NwPWJ0QGZmZmZmanRAMzMzMzNzdEDNzMzMzHp0QIXrUbgejXRAmpmZmZmHdEDrUbgehXN0QAAAAAAAVHRAZmZmZmY2dEBxPQrXozh0QDMzMzMzTXRAzczMzMxedEDsUbgehWt0QAAAAAAAenRAmpmZmZl7dEAK16NwPZp0QAAAAAAAoHRAMzMzMzORdEBxPQrXo4B0QAAAAAAAZHRA9ihcj8JNdEDNzMzMzFR0QM3MzMzMZnRAcT0K16N4dEDNzMzMzIh0QJqZmZmZl3RArkfhehSmdEAzMzMzM7l0QGZmZmZmxnRA16NwPQq/dEBmZmZmZqp0QDMzMzMzlXRAAAAAAAB4dECamZmZmXN0QM3MzMzMgHRACtejcD2KdEAzMzMzM5V0QAAAAAAAqnRAAAAAAAC4dEAAAAAAAMp0QJqZmZmZz3RAwvUoXI/CdEAzMzMzM7F0QOtRuB6Fk3RAAAAAAAB2dEAAAAAAAHZ0QGZmZmZmhnRAzczMzMyadEAAAAAAAKR0QM3MzMzMtHRAAAAAAADAdEBmZmZmZtR0QPYoXI/C3XRAZmZmZmbWdEDNzMzMzLx0QEjhehSun3RAZmZmZmaIdEAzMzMzM4V0QNejcD0Kl3RAZmZmZmasdECkcD0K17t0QM3MzMzMyHRANDMzMzPXdEAzMzMzM+d0QFyPwvUo7HRAZ2ZmZmbmdED2KFyPws10QJqZmZmZq3RAmpmZmZmVdECamZmZmZF0QJqZmZmZpXRAAAAAAAC6dECuR+F6FM50QM3MzMzM1nRANDMzMzPrdEBxPQrXowB1QM3MzMzMCnVAMzMzMzMDdUDNzMzMzOx0QAAAAAAAznRAMzMzMzO5dEAzMzMzM7N0QJqZmZmZxXRA9ihcj8LddEBmZmZmZvB0QJqZmZmZ9XRAmpmZmZkJdUAK16NwPRp1QDMzMzMzH3VAzczMzMwedUAAAAAAAAh1QGZmZmZm6nRApHA9CtfLdEBmZmZmZsp0QDMzMzMz3XRAkML1KFzvdECamZmZmQN1QDMzMzMzC3VAAAAAAAAgdUAAAAAAAC51QAAAAAAANnVAo3A9CtczdUBmZmZmZhh1QGZmZmZmAHVASOF6FK7fdEAzMzMzM990QGZmZmZm8nRAwvUoXI8KdUDNzMzMzB51QJqZmZmZI3VAKVyPwvVAdUAAAAAAAEx1QD4K16NwVXVAMzMzMzNPdUAAAAAAADZ1QJqZmZmZGXVAAAAAAAD+dEBmZmZmZgB1QClcj8L1EHVAMzMzMzMjdUDrUbgehTN1QDMzMzMzR3VAZmZmZmZWdUAzMzMzM2d1QIXrUbgebXVAAAAAAABidUDNzMzMzEZ1QGZmZmZmJnVAMzMzMzMLdUDXo3A9Cg91QM3MzMzMJnVAmpmZmZk5dUAzMzMzM0t1QM3MzMzMWHVAzczMzMxqdUCamZmZmXd1QJDC9Shcf3VAzMzMzMx0dUAehetRuF51QAAAAAAAOnVAZmZmZmYgdUBmZmZmZh51QGZmZmZmNHVAzczMzMxGdUA9CtejcFV1QAAAAAAAaHVAZmZmZmZydUBmZmZmZo51QGZmZmZmmnVAZmZmZmaUdUCF61G4Hn11QGZmZmZmYnVAAAAAAAA+dUC4HoXrUUB1QGZmZmZmUnVASOF6FK5vdUDNzMzMzHp1QM3MzMzMhnVAzczMzMySdUBmZmZmZrZ1QJqZmZmZtXVAwvUoXI+qdUAzMzMzM5N1QM3MzMzMdHVAUrgehetRdUCamZmZmVd1QJqZmZmZbXVACtejcD2CdUDNzMzMzI51QAAAAAAAnnVA16NwPQq3dUAzMzMzM8V1QDQzMzMzzXVAehSuR+HCdUAzMzMzM6d1QM3MzMzMhHVAAAAAAABwdUDNzMzMzGx1QOtRuB6Fg3VANDMzMzOZdUAAAAAAAKR1QDMzMzMzrXVApHA9Cte7dUBmZmZmZth1QOJ6FK5H4XVAAAAAAADWdUAzMzMzM711QIXrUbgenXVAzczMzMyMdUCamZmZmYF1QFK4HoXrmXVAAAAAAACudUAAAAAAAMB1QAAAAAAAyHVAmpmZmZnXdUCamZmZme11QKNwPQrX+3VAZmZmZmbydUAzMzMzM9d1QOJ6FK5HwXVAZmZmZmamdUDXo3A9Cqd1QM3MzMzMvnVAzczMzMzOdUBmZmZmZuZ1QGZmZmZm/HVAAAAAAAACdkDiehSuRxl2QM3MzMzMInZAAAAAAAAcdkDrUbgehQN2QM3MzMzM5HVAAAAAAADMdUCPwvUoXM91QAAAAAAA4HVA9ihcj8L1dUBmZmZmZgx2QAAAAAAAEHZAmpmZmZkZdkD2KFyPwjV2QJqZmZmZOXZAAAAAAAAydkD2KFyPwh12QDMzMzMz+XVA9ihcj8LddUDMzMzMzOB1QDMzMzMz83VASOF6FK4HdkBmZmZmZhp2QGZmZmZmKnZASOF6FK43dkDNzMzMzEJ2QDMzMzMzUXZA4noUrkdBdkDNzMzMzCp2QGZmZmZmDnZA1qNwPQrvdUCamZmZmfN1QDQzMzMzC3ZACtejcD0idkDNzMzMzCp2QGZmZmZmOnZAMzMzMzNTdkCamZmZmWl2QAAAAAAAdHZAexSuR+FidkDNzMzMzEB2QPYoXI/CHXZAAAAAAAACdkAAAAAAAAR2QKRwPQrXG3ZAZmZmZmYwdkBmZmZmZj52QHsUrkfhSnZAZmZmZmZedkAzMzMzM3F2QHE9CtejeHZAAAAAAABydkAAAAAAAFB2QPYoXI/CLXZAZmZmZmYQdkAehetRuBZ2QDMzMzMzI3ZAmpmZmZk1dkB7FK5H4Up2QM3MzMzMUnZAzczMzMxmdkAzMzMzM3V2QHsUrkfhgnZAAAAAAAB4dkAehetRuFZ2QDMzMzMzNXZAZmZmZmYcdkApXI/C9SB2QJqZmZmZNXZAZmZmZmZMdkCF61G4HmV2QGZmZmZmbnZAzczMzMx+dkDrUbgehZN2QGZmZmZmmnZAZmZmZmaOdkCPwvUoXHd2QAAAAAAAVnZAzMzMzMw+dkC4HoXrUUB2QDMzMzMzWXZAKVyPwvVwdkCamZmZmX92QM3MzMzMjnZAMzMzMzOZdkD2KFyPwrV2QDMzMzMzu3ZAAAAAAAC0dkDNzMzMzJx2QAAAAAAAdnZAAAAAAABgdkCamZmZmV12QJqZmZmZd3ZAMzMzMzOLdkBmZmZmZqB2QM3MzMzMsnZAKlyPwvXAdkAzMzMzM8t2QDMzMzMz1XZArkfhehTOdkCamZmZmbd2QIXrUbgelXZAZmZmZmZ2dkAAAAAAAHp2QKNwPQrXi3ZAAAAAAACmdkAAAAAAALJ2QAAAAAAAvnZAKVyPwvXIdkAzMzMzM+V2QHsUrkfh6nZAmpmZmZnXdkAAAAAAAMZ2QJDC9Shcp3ZAZmZmZmaCdkAAAAAAAIx2QK5H4XoUpnZAAAAAAADEdkA+CtejcNV2QDMzMzMz43ZAAAAAAAD2dkBmZmZmZgh3QArXo3A9EndAAAAAAAAMd0CamZmZmfl2QOtRuB6F23ZAzczMzMy+dkCF61G4HsV2QM3MzMzM2HZAzczMzMzudkBSuB6F6wF3QJqZmZmZDXdAmpmZmZkZd0CamZmZmS93QD4K16NwLXdAAAAAAAAkd0AAAAAAABB3QDMzMzMz63ZAzczMzMzKdkAK16NwPdJ2QGZmZmZm6nZAZmZmZmb+dkC4HoXrURB3QAAAAAAAFndAZmZmZmYmd0BxPQrXozh3QGZmZmZmOndAAAAAAAA6d0DXo3A9Ch93QDMzMzMz/3ZAcD0K16PodkCamZmZmet2QAAAAAAAAndA16NwPQoXd0DNzMzMzCJ3QDMzMzMzNXdAKVyPwvVAd0BmZmZmZkx3QMzMzMzMXHdAKVyPwvVQd0DNzMzMzDR3QM3MzMzMFndArkfhehT+dkDNzMzMzAB3QAAAAAAAFndAuB6F61Ewd0A=",
          "dtype": "f8"
         }
        }
       ],
       "layout": {
        "height": 400,
        "template": {
         "data": {
          "bar": [
           {
            "error_x": {
             "color": "#2a3f5f"
            },
            "error_y": {
             "color": "#2a3f5f"
            },
            "marker": {
             "line": {
              "color": "white",
              "width": 0.5
             },
             "pattern": {
              "fillmode": "overlay",
              "size": 10,
              "solidity": 0.2
             }
            },
            "type": "bar"
           }
          ],
          "barpolar": [
           {
            "marker": {
             "line": {
              "color": "white",
              "width": 0.5
             },
             "pattern": {
              "fillmode": "overlay",
              "size": 10,
              "solidity": 0.2
             }
            },
            "type": "barpolar"
           }
          ],
          "carpet": [
           {
            "aaxis": {
             "endlinecolor": "#2a3f5f",
             "gridcolor": "#C8D4E3",
             "linecolor": "#C8D4E3",
             "minorgridcolor": "#C8D4E3",
             "startlinecolor": "#2a3f5f"
            },
            "baxis": {
             "endlinecolor": "#2a3f5f",
             "gridcolor": "#C8D4E3",
             "linecolor": "#C8D4E3",
             "minorgridcolor": "#C8D4E3",
             "startlinecolor": "#2a3f5f"
            },
            "type": "carpet"
           }
          ],
          "choropleth": [
           {
            "colorbar": {
             "outlinewidth": 0,
             "ticks": ""
            },
            "type": "choropleth"
           }
          ],
          "contour": [
           {
            "colorbar": {
             "outlinewidth": 0,
             "ticks": ""
            },
            "colorscale": [
             [
              0,
              "#0d0887"
             ],
             [
              0.1111111111111111,
              "#46039f"
             ],
             [
              0.2222222222222222,
              "#7201a8"
             ],
             [
              0.3333333333333333,
              "#9c179e"
             ],
             [
              0.4444444444444444,
              "#bd3786"
             ],
             [
              0.5555555555555556,
              "#d8576b"
             ],
             [
              0.6666666666666666,
              "#ed7953"
             ],
             [
              0.7777777777777778,
              "#fb9f3a"
             ],
             [
              0.8888888888888888,
              "#fdca26"
             ],
             [
              1,
              "#f0f921"
             ]
            ],
            "type": "contour"
           }
          ],
          "contourcarpet": [
           {
            "colorbar": {
             "outlinewidth": 0,
             "ticks": ""
            },
            "type": "contourcarpet"
           }
          ],
          "heatmap": [
           {
            "colorbar": {
             "outlinewidth": 0,
             "ticks": ""
            },
            "colorscale": [
             [
              0,
              "#0d0887"
             ],
             [
              0.1111111111111111,
              "#46039f"
             ],
             [
              0.2222222222222222,
              "#7201a8"
             ],
             [
              0.3333333333333333,
              "#9c179e"
             ],
             [
              0.4444444444444444,
              "#bd3786"
             ],
             [
              0.5555555555555556,
              "#d8576b"
             ],
             [
              0.6666666666666666,
              "#ed7953"
             ],
             [
              0.7777777777777778,
              "#fb9f3a"
             ],
             [
              0.8888888888888888,
              "#fdca26"
             ],
             [
              1,
              "#f0f921"
             ]
            ],
            "type": "heatmap"
           }
          ],
          "histogram": [
           {
            "marker": {
             "pattern": {
              "fillmode": "overlay",
              "size": 10,
              "solidity": 0.2
             }
            },
            "type": "histogram"
           }
          ],
          "histogram2d": [
           {
            "colorbar": {
             "outlinewidth": 0,
             "ticks": ""
            },
            "colorscale": [
             [
              0,
              "#0d0887"
             ],
             [
              0.1111111111111111,
              "#46039f"
             ],
             [
              0.2222222222222222,
              "#7201a8"
             ],
             [
              0.3333333333333333,
              "#9c179e"
             ],
             [
              0.4444444444444444,
              "#bd3786"
             ],
             [
              0.5555555555555556,
              "#d8576b"
             ],
             [
              0.6666666666666666,
              "#ed7953"
             ],
             [
              0.7777777777777778,
              "#fb9f3a"
             ],
             [
              0.8888888888888888,
              "#fdca26"
             ],
             [
              1,
              "#f0f921"
             ]
            ],
            "type": "histogram2d"
           }
          ],
          "histogram2dcontour": [
           {
            "colorbar": {
             "outlinewidth": 0,
             "ticks": ""
            },
            "colorscale": [
             [
              0,
              "#0d0887"
             ],
             [
              0.1111111111111111,
              "#46039f"
             ],
             [
              0.2222222222222222,
              "#7201a8"
             ],
             [
              0.3333333333333333,
              "#9c179e"
             ],
             [
              0.4444444444444444,
              "#bd3786"
             ],
             [
              0.5555555555555556,
              "#d8576b"
             ],
             [
              0.6666666666666666,
              "#ed7953"
             ],
             [
              0.7777777777777778,
              "#fb9f3a"
             ],
             [
              0.8888888888888888,
              "#fdca26"
             ],
             [
              1,
              "#f0f921"
             ]
            ],
            "type": "histogram2dcontour"
           }
          ],
          "mesh3d": [
           {
            "colorbar": {
             "outlinewidth": 0,
             "ticks": ""
            },
            "type": "mesh3d"
           }
          ],
          "parcoords": [
           {
            "line": {
             "colorbar": {
              "outlinewidth": 0,
              "ticks": ""
             }
            },
            "type": "parcoords"
           }
          ],
          "pie": [
           {
            "automargin": true,
            "type": "pie"
           }
          ],
          "scatter": [
           {
            "fillpattern": {
             "fillmode": "overlay",
             "size": 10,
             "solidity": 0.2
            },
            "type": "scatter"
           }
          ],
          "scatter3d": [
           {
            "line": {
             "colorbar": {
              "outlinewidth": 0,
              "ticks": ""
             }
            },
            "marker": {
             "colorbar": {
              "outlinewidth": 0,
              "ticks": ""
             }
            },
            "type": "scatter3d"
           }
          ],
          "scattercarpet": [
           {
            "marker": {
             "colorbar": {
              "outlinewidth": 0,
              "ticks": ""
             }
            },
            "type": "scattercarpet"
           }
          ],
          "scattergeo": [
           {
            "marker": {
             "colorbar": {
              "outlinewidth": 0,
              "ticks": ""
             }
            },
            "type": "scattergeo"
           }
          ],
          "scattergl": [
           {
            "marker": {
             "colorbar": {
              "outlinewidth": 0,
              "ticks": ""
             }
            },
            "type": "scattergl"
           }
          ],
          "scattermap": [
           {
            "marker": {
             "colorbar": {
              "outlinewidth": 0,
              "ticks": ""
             }
            },
            "type": "scattermap"
           }
          ],
          "scattermapbox": [
           {
            "marker": {
             "colorbar": {
              "outlinewidth": 0,
              "ticks": ""
             }
            },
            "type": "scattermapbox"
           }
          ],
          "scatterpolar": [
           {
            "marker": {
             "colorbar": {
              "outlinewidth": 0,
              "ticks": ""
             }
            },
            "type": "scatterpolar"
           }
          ],
          "scatterpolargl": [
           {
            "marker": {
             "colorbar": {
              "outlinewidth": 0,
              "ticks": ""
             }
            },
            "type": "scatterpolargl"
           }
          ],
          "scatterternary": [
           {
            "marker": {
             "colorbar": {
              "outlinewidth": 0,
              "ticks": ""
             }
            },
            "type": "scatterternary"
           }
          ],
          "surface": [
           {
            "colorbar": {
             "outlinewidth": 0,
             "ticks": ""
            },
            "colorscale": [
             [
              0,
              "#0d0887"
             ],
             [
              0.1111111111111111,
              "#46039f"
             ],
             [
              0.2222222222222222,
              "#7201a8"
             ],
             [
              0.3333333333333333,
              "#9c179e"
             ],
             [
              0.4444444444444444,
              "#bd3786"
             ],
             [
              0.5555555555555556,
              "#d8576b"
             ],
             [
              0.6666666666666666,
              "#ed7953"
             ],
             [
              0.7777777777777778,
              "#fb9f3a"
             ],
             [
              0.8888888888888888,
              "#fdca26"
             ],
             [
              1,
              "#f0f921"
             ]
            ],
            "type": "surface"
           }
          ],
          "table": [
           {
            "cells": {
             "fill": {
              "color": "#EBF0F8"
             },
             "line": {
              "color": "white"
             }
            },
            "header": {
             "fill": {
              "color": "#C8D4E3"
             },
             "line": {
              "color": "white"
             }
            },
            "type": "table"
           }
          ]
         },
         "layout": {
          "annotationdefaults": {
           "arrowcolor": "#2a3f5f",
           "arrowhead": 0,
           "arrowwidth": 1
          },
          "autotypenumbers": "strict",
          "coloraxis": {
           "colorbar": {
            "outlinewidth": 0,
            "ticks": ""
           }
          },
          "colorscale": {
           "diverging": [
            [
             0,
             "#8e0152"
            ],
            [
             0.1,
             "#c51b7d"
            ],
            [
             0.2,
             "#de77ae"
            ],
            [
             0.3,
             "#f1b6da"
            ],
            [
             0.4,
             "#fde0ef"
            ],
            [
             0.5,
             "#f7f7f7"
            ],
            [
             0.6,
             "#e6f5d0"
            ],
            [
             0.7,
             "#b8e186"
            ],
            [
             0.8,
             "#7fbc41"
            ],
            [
             0.9,
             "#4d9221"
            ],
            [
             1,
             "#276419"
            ]
           ],
           "sequential": [
            [
             0,
             "#0d0887"
            ],
            [
             0.1111111111111111,
             "#46039f"
            ],
            [
             0.2222222222222222,
             "#7201a8"
            ],
            [
             0.3333333333333333,
             "#9c179e"
            ],
            [
             0.4444444444444444,
             "#bd3786"
            ],
            [
             0.5555555555555556,
             "#d8576b"
            ],
            [
             0.6666666666666666,
             "#ed7953"
            ],
            [
             0.7777777777777778,
             "#fb9f3a"
            ],
            [
             0.8888888888888888,
             "#fdca26"
            ],
            [
             1,
             "#f0f921"
            ]
           ],
           "sequentialminus": [
            [
             0,
             "#0d0887"
            ],
            [
             0.1111111111111111,
             "#46039f"
            ],
            [
             0.2222222222222222,
             "#7201a8"
            ],
            [
             0.3333333333333333,
             "#9c179e"
            ],
            [
             0.4444444444444444,
             "#bd3786"
            ],
            [
             0.5555555555555556,
             "#d8576b"
            ],
            [
             0.6666666666666666,
             "#ed7953"
            ],
            [
             0.7777777777777778,
             "#fb9f3a"
            ],
            [
             0.8888888888888888,
             "#fdca26"
            ],
            [
             1,
             "#f0f921"
            ]
           ]
          },
          "colorway": [
           "#636efa",
           "#EF553B",
           "#00cc96",
           "#ab63fa",
           "#FFA15A",
           "#19d3f3",
           "#FF6692",
           "#B6E880",
           "#FF97FF",
           "#FECB52"
          ],
          "font": {
           "color": "#2a3f5f"
          },
          "geo": {
           "bgcolor": "white",
           "lakecolor": "white",
           "landcolor": "white",
           "showlakes": true,
           "showland": true,
           "subunitcolor": "#C8D4E3"
          },
          "hoverlabel": {
           "align": "left"
          },
          "hovermode": "closest",
          "mapbox": {
           "style": "light"
          },
          "paper_bgcolor": "white",
          "plot_bgcolor": "white",
          "polar": {
           "angularaxis": {
            "gridcolor": "#EBF0F8",
            "linecolor": "#EBF0F8",
            "ticks": ""
           },
           "bgcolor": "white",
           "radialaxis": {
            "gridcolor": "#EBF0F8",
            "linecolor": "#EBF0F8",
            "ticks": ""
           }
          },
          "scene": {
           "xaxis": {
            "backgroundcolor": "white",
            "gridcolor": "#DFE8F3",
            "gridwidth": 2,
            "linecolor": "#EBF0F8",
            "showbackground": true,
            "ticks": "",
            "zerolinecolor": "#EBF0F8"
           },
           "yaxis": {
            "backgroundcolor": "white",
            "gridcolor": "#DFE8F3",
            "gridwidth": 2,
            "linecolor": "#EBF0F8",
            "showbackground": true,
            "ticks": "",
            "zerolinecolor": "#EBF0F8"
           },
           "zaxis": {
            "backgroundcolor": "white",
            "gridcolor": "#DFE8F3",
            "gridwidth": 2,
            "linecolor": "#EBF0F8",
            "showbackground": true,
            "ticks": "",
            "zerolinecolor": "#EBF0F8"
           }
          },
          "shapedefaults": {
           "line": {
            "color": "#2a3f5f"
           }
          },
          "ternary": {
           "aaxis": {
            "gridcolor": "#DFE8F3",
            "linecolor": "#A2B1C6",
            "ticks": ""
           },
           "baxis": {
            "gridcolor": "#DFE8F3",
            "linecolor": "#A2B1C6",
            "ticks": ""
           },
           "bgcolor": "white",
           "caxis": {
            "gridcolor": "#DFE8F3",
            "linecolor": "#A2B1C6",
            "ticks": ""
           }
          },
          "title": {
           "x": 0.05
          },
          "xaxis": {
           "automargin": true,
           "gridcolor": "#EBF0F8",
           "linecolor": "#EBF0F8",
           "ticks": "",
           "title": {
            "standoff": 15
           },
           "zerolinecolor": "#EBF0F8",
           "zerolinewidth": 2
          },
          "yaxis": {
           "automargin": true,
           "gridcolor": "#EBF0F8",
           "linecolor": "#EBF0F8",
           "ticks": "",
           "title": {
            "standoff": 15
           },
           "zerolinecolor": "#EBF0F8",
           "zerolinewidth": 2
          }
         }
        },
        "title": {
         "text": "Serie Temporal de CO2 - Mauna Loa (Mensualizada)"
        },
        "width": 800,
        "xaxis": {
         "title": {
          "text": "Fecha"
         }
        },
        "yaxis": {
         "title": {
          "text": "Concentración CO2 (ppm)"
         }
        }
       }
      }
     },
     "metadata": {},
     "output_type": "display_data"
    }
   ],
   "source": [
    "import plotly.graph_objects as go # type: ignore\n",
    "\n",
    "# Crear la gráfica de la serie mensual de CO2\n",
    "fig = go.Figure()\n",
    "\n",
    "fig.add_trace(go.Scatter(\n",
    "    x=y.index,\n",
    "    y=y.values,\n",
    "    mode='lines',\n",
    "    name='CO2 (ppm)',\n",
    "    line=dict(color='blue', width=1.5)\n",
    "))\n",
    "\n",
    "fig.update_layout(\n",
    "    title='Serie Temporal de CO2 - Mauna Loa (Mensualizada)',\n",
    "    xaxis_title='Fecha',\n",
    "    yaxis_title='Concentración CO2 (ppm)',\n",
    "    template='plotly_white',\n",
    "    width=800,\n",
    "    height=400\n",
    ")\n",
    "\n",
    "fig.show()"
   ]
  },
  {
   "cell_type": "markdown",
   "id": "f1933cd6",
   "metadata": {},
   "source": [
    "Vemos que la serie claramente tiene tendencia, posiblemente estacionalidad, para deteminar si es estacionaria o no, se debe realizar las pruebas de raices unitarias.\n",
    "\n",
    "Para descomponer la serie se utiliza `seasonal_decompose` de la librería `statsmodels`"
   ]
  },
  {
   "cell_type": "code",
   "execution_count": 34,
   "id": "ce30c2b2",
   "metadata": {},
   "outputs": [
    {
     "data": {
      "image/png": "[encoded data removed]",
      "text/plain": [
       "<Figure size 1000x800 with 4 Axes>"
      ]
     },
     "metadata": {},
     "output_type": "display_data"
    }
   ],
   "source": [
    "from statsmodels.tsa.seasonal import seasonal_decompose\n",
    "import matplotlib.pyplot as plt\n",
    "\n",
    "# Descomponer la serie\n",
    "result = seasonal_decompose(y, model='additive')\n",
    "\n",
    "# Graficar los componentes\n",
    "fig, (ax1, ax2, ax3, ax4) = plt.subplots(4, 1, figsize=(10, 8), sharex=True)\n",
    "\n",
    "result.observed.plot(ax=ax1, title='Serie Observada', color='blue')\n",
    "result.trend.plot(ax=ax2, title='Tendencia', color='orange')\n",
    "result.seasonal.plot(ax=ax3, title='Estacionalidad', color='green')\n",
    "result.resid.plot(ax=ax4, title='Ruido', color='red')\n",
    "\n",
    "plt.tight_layout()\n",
    "plt.show()"
   ]
  },
  {
   "cell_type": "markdown",
   "id": "7fa358cd",
   "metadata": {},
   "source": [
    "La descomposición de la serie de CO₂ de Mauna Loa evidencia una tendencia creciente sostenida y una estacionalidad anual estable, características de un proceso no estacionario con comportamiento aditivo. La tendencia refleja el incremento progresivo de las concentraciones atmosféricas de CO₂ a lo largo de las décadas, mientras que el patrón estacional se asocia a las variaciones cíclicas naturales de absorción y emisión de CO₂. El componente residual muestra fluctuaciones aleatorias de baja magnitud, indicando que los patrones sistemáticos de la serie están bien capturados y que su modelamiento requiere técnicas que consideren la tendencia y la estacionalidad"
   ]
  },
  {
   "cell_type": "code",
   "execution_count": 36,
   "id": "40d9f839",
   "metadata": {},
   "outputs": [
    {
     "name": "stdout",
     "output_type": "stream",
     "text": [
      "ADF Statistic: 2.232835439898917\n",
      "p-value: 0.9989084530577083\n",
      "Critical Values:\n",
      "   1%, -3.4432119442564324\n",
      "Critical Values:\n",
      "   5%, -2.8672126791646955\n",
      "Critical Values:\n",
      "   10%, -2.569791324979607\n"
     ]
    }
   ],
   "source": [
    "# prueba de Dickey-Fuller aumentada (ADF)\n",
    "from statsmodels.tsa.stattools import adfuller  \n",
    "adf_result = adfuller(y.dropna())\n",
    "print(\"ADF Statistic:\", adf_result[0])\n",
    "print(\"p-value:\", adf_result[1])\n",
    "for key, value in adf_result[4].items():\n",
    "    print('Critical Values:')\n",
    "    print(f'   {key}, {value}')"
   ]
  },
  {
   "cell_type": "markdown",
   "id": "47e84c25",
   "metadata": {},
   "source": [
    "Los resultados de la prueba de raíces unitarias ADF (Augmented Dickey-Fuller) indican que la serie no es estacionaria, ya que el estadístico ADF (2.23) es mayor que todos los valores críticos al 1%, 5% y 10%, y el p-valor (≈0.999) es muy superior a 0.05, por lo que no se rechaza la hipótesis nula de existencia de una raíz unitaria. En consecuencia, la serie presenta una tendencia o dependencia temporal persistente, lo que sugiere la necesidad de aplicar diferenciación o detrendización para lograr estacionariedad antes de su modelamiento."
   ]
  },
  {
   "cell_type": "markdown",
   "id": "3b3f9f8a",
   "metadata": {},
   "source": [
    "#### Analizar la Autocorrelación\n",
    "\n",
    "Utilizar las funciones de Autocorrelación (ACF) y Autocorrelación Parcial (PACF) para estudiar el grado de dependencia con los rezagos (puntos pasados)\n",
    "\n"
   ]
  },
  {
   "cell_type": "code",
   "execution_count": 37,
   "id": "61cc46d9",
   "metadata": {},
   "outputs": [
    {
     "data": {
      "text/plain": [
       "<Figure size 1000x600 with 0 Axes>"
      ]
     },
     "metadata": {},
     "output_type": "display_data"
    },
    {
     "data": {
      "image/png": "[encoded data removed]",
      "text/plain": [
       "<Figure size 640x480 with 1 Axes>"
      ]
     },
     "metadata": {},
     "output_type": "display_data"
    }
   ],
   "source": [
    "from statsmodels.graphics.tsaplots import plot_acf\n",
    "\n",
    "import matplotlib.pyplot as plt\n",
    "\n",
    "# Graficar la función de autocorrelación (ACF)\n",
    "plt.figure(figsize=(10, 6))\n",
    "plot_acf(y, lags=50, alpha=0.05)\n",
    "plt.title('Función de Autocorrelación (ACF)')\n",
    "plt.show()"
   ]
  },
  {
   "cell_type": "markdown",
   "id": "a4414a87",
   "metadata": {},
   "source": [
    "La gráfica de la Función de Autocorrelación (ACF) muestra coeficientes que disminuyen de forma lenta y gradual a medida que aumenta el rezago, manteniéndose todos positivos y significativamente distintos de cero. Este patrón es característico de una serie no estacionaria con tendencia, donde los valores presentes están fuertemente correlacionados con los pasados. En consecuencia, la serie presenta alta persistencia temporal y memoria larga, por lo que requiere aplicar una diferenciación para eliminar la tendencia y lograr estacionariedad antes del modelamiento."
   ]
  },
  {
   "cell_type": "code",
   "execution_count": 38,
   "id": "a9da0e44",
   "metadata": {},
   "outputs": [
    {
     "data": {
      "text/plain": [
       "<Figure size 1000x600 with 0 Axes>"
      ]
     },
     "metadata": {},
     "output_type": "display_data"
    },
    {
     "data": {
      "image/png": "[encoded data removed]",
      "text/plain": [
       "<Figure size 640x480 with 1 Axes>"
      ]
     },
     "metadata": {},
     "output_type": "display_data"
    }
   ],
   "source": [
    "from statsmodels.graphics.tsaplots import plot_pacf\n",
    "\n",
    "# Graficar la función de autocorrelación parcial (PACF)\n",
    "plt.figure(figsize=(10, 6))\n",
    "plot_pacf(y, lags=50, alpha=0.05, method='ywm')\n",
    "plt.title('Función de Autocorrelación Parcial (PACF)')\n",
    "plt.show()"
   ]
  },
  {
   "cell_type": "markdown",
   "id": "11284165",
   "metadata": {},
   "source": [
    "La gráfica de la Función de Autocorrelación Parcial (PACF) muestra un alto valor significativo en el primer rezago y una rápida caída posterior hacia valores cercanos a cero, sin correlaciones parciales relevantes en rezagos mayores. Este patrón indica que la dependencia directa de la serie se concentra principalmente en su valor inmediatamente anterior, característica típica de un proceso autorregresivo de primer orden (AR(1)) o de una serie no estacionaria con fuerte persistencia temporal. En conjunto con la ACF, este comportamiento sugiere que la serie requiere diferenciación para eliminar la tendencia y estabilizar la media antes de aplicar un modelo ARIMA."
   ]
  },
  {
   "cell_type": "markdown",
   "id": "fc83f8bc",
   "metadata": {},
   "source": []
  }
 ],
 "metadata": {
  "kernelspec": {
   "display_name": ".venv (3.11.6)",
   "language": "python",
   "name": "python3"
  },
  "language_info": {
   "codemirror_mode": {
    "name": "ipython",
    "version": 3
   },
   "file_extension": ".py",
   "mimetype": "text/x-python",
   "name": "python",
   "nbconvert_exporter": "python",
   "pygments_lexer": "ipython3",
   "version": "3.11.6"
  }
 },
 "nbformat": 4,
 "nbformat_minor": 5
}
